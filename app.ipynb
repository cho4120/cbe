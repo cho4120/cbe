{
 "cells": [
  {
   "cell_type": "code",
   "execution_count": 1,
   "metadata": {},
   "outputs": [
    {
     "name": "stdout",
     "output_type": "stream",
     "text": [
      "하이\n"
     ]
    }
   ],
   "source": [
    "print(\"하이\")"
   ]
  },
  {
   "cell_type": "code",
   "execution_count": 25,
   "metadata": {},
   "outputs": [
    {
     "data": {
      "text/plain": [
       "5"
      ]
     },
     "execution_count": 25,
     "metadata": {},
     "output_type": "execute_result"
    }
   ],
   "source": [
    "#리스트\n",
    "l = [1,2,3,4,5]\n",
    "l.append(6) #추가\n",
    "l.pop() #뺀다\n",
    "len(l) #길이잼\n"
   ]
  },
  {
   "cell_type": "code",
   "execution_count": 26,
   "metadata": {},
   "outputs": [
    {
     "name": "stdout",
     "output_type": "stream",
     "text": [
      "1💖2💖3💖4💖5💖"
     ]
    }
   ],
   "source": [
    "#반복문\n",
    "#for 변수명 in 반복할 자료:\n",
    "for i in l:\n",
    "    print(i,end=\"💖\") #줄을 바꾸지 말고, 한줄에 출력하기!"
   ]
  },
  {
   "cell_type": "code",
   "execution_count": 35,
   "metadata": {},
   "outputs": [],
   "source": [
    "#반복문\n",
    "#for 변수명 in 반복할 자료:\n",
    "for i in l:\n",
    "    print(i, end=\"💖\",file=open(\"a.txt\",\"a\")) #탐색기에 파일 생겨서 출력하는게 파일로 출력됨..? #컨트롤+스페이스 누르면 어떤걸 쓰면 좋을지 알려줌"
   ]
  },
  {
   "cell_type": "code",
   "execution_count": null,
   "metadata": {},
   "outputs": [],
   "source": [
    "#window+.(콤마)=이모지나옴 #window+v=클립보드(복붙여러개)"
   ]
  },
  {
   "cell_type": "code",
   "execution_count": 36,
   "metadata": {},
   "outputs": [
    {
     "name": "stdout",
     "output_type": "stream",
     "text": [
      "1\n",
      "2\n",
      "3\n",
      "4\n",
      "5\n",
      "6\n",
      "7\n",
      "8\n",
      "9\n",
      "10\n"
     ]
    }
   ],
   "source": [
    "#1부터 10까지 출력하기\n",
    "for i in range(1,11):\n",
    "    print(i)\n"
   ]
  },
  {
   "cell_type": "code",
   "execution_count": 37,
   "metadata": {},
   "outputs": [
    {
     "name": "stdout",
     "output_type": "stream",
     "text": [
      "55\n"
     ]
    }
   ],
   "source": [
    "#1부터 10까지 출력하기\n",
    "a = 0 #1부터 10까지의 더한 값을 저장할 변수\n",
    "for i in range(1,11):\n",
    "    a = a + i # =은 대입의 의미\n",
    "print(a)"
   ]
  },
  {
   "cell_type": "code",
   "execution_count": 38,
   "metadata": {},
   "outputs": [
    {
     "name": "stdout",
     "output_type": "stream",
     "text": [
      "55\n"
     ]
    }
   ],
   "source": [
    "#1부터 10까지 출력하기\n",
    "a = 0 #1부터 10까지의 더한 값을 저장할 변수\n",
    "for i in range(11):\n",
    "    a = a + i\n",
    "print(a) #i의 첫번째값이 0이니까 위에랑 값 똑같음"
   ]
  },
  {
   "cell_type": "code",
   "execution_count": 39,
   "metadata": {},
   "outputs": [
    {
     "name": "stdout",
     "output_type": "stream",
     "text": [
      "30\n"
     ]
    }
   ],
   "source": [
    "#1부터 10까지 출력하기\n",
    "a = 0 #1부터 10까지의 짝수의 합을 저장할 변수\n",
    "for i in range(0,11,2): #1부터 11까지 가는데 두칸씩 띄어가라의 코드 #홀수라면 (1,11,2)가 됨\n",
    "    a = a + i\n",
    "print(a)"
   ]
  },
  {
   "cell_type": "code",
   "execution_count": 41,
   "metadata": {},
   "outputs": [
    {
     "data": {
      "text/plain": [
       "55"
      ]
     },
     "execution_count": 41,
     "metadata": {},
     "output_type": "execute_result"
    }
   ],
   "source": [
    "sum(list((range(11)))) #0부터 10까지의 합"
   ]
  },
  {
   "cell_type": "code",
   "execution_count": 42,
   "metadata": {},
   "outputs": [
    {
     "data": {
      "text/plain": [
       "10"
      ]
     },
     "execution_count": 42,
     "metadata": {},
     "output_type": "execute_result"
    }
   ],
   "source": [
    "max(list((range(11)))) #가장 큰 값"
   ]
  },
  {
   "cell_type": "code",
   "execution_count": 43,
   "metadata": {},
   "outputs": [
    {
     "data": {
      "text/plain": [
       "0"
      ]
     },
     "execution_count": 43,
     "metadata": {},
     "output_type": "execute_result"
    }
   ],
   "source": [
    "min(list((range(11)))) #가장 작은 값"
   ]
  },
  {
   "cell_type": "code",
   "execution_count": 44,
   "metadata": {},
   "outputs": [
    {
     "name": "stdout",
     "output_type": "stream",
     "text": [
      "너무어렵다\n"
     ]
    }
   ],
   "source": [
    "while True: #조건이 참일때 반복이 되는 반복문\n",
    "    print(\"너무어렵다\") #무한반복 #정지를 눌러줘야함...\n",
    "    break #브레이크 걸어주기 #특정조건일때 사용함(특정조건에서 계속 돌아야 할 때)"
   ]
  },
  {
   "cell_type": "code",
   "execution_count": null,
   "metadata": {},
   "outputs": [],
   "source": [
    "#파이썬 반복문 두가지\n",
    "\n",
    "while True: #조건에 따라 반복\n",
    "    print(\"너무어렵다\")\n",
    "    break\n",
    "\n",
    "for _ in range(10) #자료에 따라 반복됨"
   ]
  },
  {
   "cell_type": "code",
   "execution_count": 45,
   "metadata": {},
   "outputs": [
    {
     "name": "stdout",
     "output_type": "stream",
     "text": [
      "1\n",
      "3\n",
      "4\n",
      "5\n",
      "6\n"
     ]
    }
   ],
   "source": [
    "data = 1,3,4,5,6 #튜플\n",
    "for i in data:\n",
    "    print(i)"
   ]
  },
  {
   "cell_type": "code",
   "execution_count": 48,
   "metadata": {},
   "outputs": [
    {
     "name": "stdout",
     "output_type": "stream",
     "text": [
      "BMW\n"
     ]
    }
   ],
   "source": [
    "#IF (제어,,?)\n",
    "cars = [\"기아\",\"현대\",\"bmw\",\"audi\",\"toyota\"]\n",
    "for car in cars:\n",
    "    if car == \"bmw\":\n",
    "        print(car.upper()) # ==는 같다(==는 논리연산자), =은 대입의 표시 #특정조건에서 어떠한 명령이 들어가야하니까 :사용 #bmw 하단으로 프린트 들어갔으니까 bmw만 나옴"
   ]
  },
  {
   "cell_type": "code",
   "execution_count": 49,
   "metadata": {},
   "outputs": [
    {
     "name": "stdout",
     "output_type": "stream",
     "text": [
      "기아\n",
      "현대\n",
      "BMW\n",
      "audi\n",
      "toyota\n"
     ]
    }
   ],
   "source": [
    "#IF (제어,,?)\n",
    "cars = [\"기아\",\"현대\",\"bmw\",\"audi\",\"toyota\"]\n",
    "for car in cars:\n",
    "    if car == \"bmw\":\n",
    "        print(car.upper())\n",
    "    else:\n",
    "        print(car) #만약에 아니면 그냥 차를 출력해"
   ]
  },
  {
   "cell_type": "code",
   "execution_count": 50,
   "metadata": {},
   "outputs": [
    {
     "name": "stdout",
     "output_type": "stream",
     "text": [
      "기아\n",
      "현대\n",
      "BMW\n",
      "Audi\n",
      "Toyota\n"
     ]
    }
   ],
   "source": [
    "#IF (제어,,?)\n",
    "cars = [\"기아\",\"현대\",\"bmw\",\"audi\",\"toyota\"]\n",
    "for car in cars:\n",
    "    if car == \"bmw\":\n",
    "        print(car.upper()) #이조건이 만족된다면 이걸 실행\n",
    "    else:\n",
    "        print(car.title()) #만약에 아니면 앞문자만 대문자로 #아니라면 이거를 실행하게 하는 것"
   ]
  },
  {
   "cell_type": "code",
   "execution_count": null,
   "metadata": {},
   "outputs": [],
   "source": [
    "#  !=  ->다르다는 것\n",
    "#  >=  ->크거나 같다\n",
    "\n",
    "score = 90\n",
    "score == 90 #같다\n",
    "score != 90 #같지않다"
   ]
  },
  {
   "cell_type": "code",
   "execution_count": 56,
   "metadata": {},
   "outputs": [
    {
     "data": {
      "text/plain": [
       "True"
      ]
     },
     "execution_count": 56,
     "metadata": {},
     "output_type": "execute_result"
    }
   ],
   "source": [
    "우리반학생 = [\"박창순\",\"박성준\"]\n",
    "\"박성준\" in 우리반학생 #우리반학생에 박성준이 있는가?"
   ]
  },
  {
   "cell_type": "code",
   "execution_count": 57,
   "metadata": {},
   "outputs": [
    {
     "data": {
      "text/plain": [
       "False"
      ]
     },
     "execution_count": 57,
     "metadata": {},
     "output_type": "execute_result"
    }
   ],
   "source": [
    "우리반학생 = [\"박창순\",\"박성준\"]\n",
    "\"박성준\" not in 우리반학생 #우리반학생에 박성준이 없지?"
   ]
  },
  {
   "cell_type": "code",
   "execution_count": 21,
   "metadata": {},
   "outputs": [],
   "source": [
    "나={\n",
    "    \"이름\":\"박초영\",\n",
    "    \"취미\":[\"수영\",\"여행\"],\n",
    "    \"좋아하는것\":[\"고양이\"],\n",
    "}"
   ]
  },
  {
   "cell_type": "code",
   "execution_count": 22,
   "metadata": {},
   "outputs": [
    {
     "data": {
      "text/plain": [
       "['수영', '여행']"
      ]
     },
     "execution_count": 22,
     "metadata": {},
     "output_type": "execute_result"
    }
   ],
   "source": [
    "나[\"취미\"]"
   ]
  },
  {
   "cell_type": "code",
   "execution_count": 26,
   "metadata": {},
   "outputs": [
    {
     "name": "stdout",
     "output_type": "stream",
     "text": [
      "이름\n",
      "취미\n",
      "좋아하는것\n"
     ]
    }
   ],
   "source": [
    "for i in 나:\n",
    "    print(i) #키 출력"
   ]
  },
  {
   "cell_type": "code",
   "execution_count": 27,
   "metadata": {},
   "outputs": [
    {
     "name": "stdout",
     "output_type": "stream",
     "text": [
      "박초영\n",
      "['수영', '여행']\n",
      "['고양이']\n"
     ]
    }
   ],
   "source": [
    "for i in 나:\n",
    "    print(나[i]) #값 출력"
   ]
  },
  {
   "cell_type": "code",
   "execution_count": 28,
   "metadata": {},
   "outputs": [
    {
     "name": "stdout",
     "output_type": "stream",
     "text": [
      "이름 박초영\n",
      "취미 ['수영', '여행']\n",
      "좋아하는것 ['고양이']\n"
     ]
    }
   ],
   "source": [
    "for i in 나:\n",
    "    print(i,나[i]) #키와 값 출력"
   ]
  },
  {
   "cell_type": "code",
   "execution_count": 29,
   "metadata": {},
   "outputs": [
    {
     "data": {
      "text/plain": [
       "dict_keys(['이름', '취미', '좋아하는것'])"
      ]
     },
     "execution_count": 29,
     "metadata": {},
     "output_type": "execute_result"
    }
   ],
   "source": [
    "나.keys() #키만 추출"
   ]
  },
  {
   "cell_type": "code",
   "execution_count": 30,
   "metadata": {},
   "outputs": [
    {
     "data": {
      "text/plain": [
       "['이름', '취미', '좋아하는것']"
      ]
     },
     "execution_count": 30,
     "metadata": {},
     "output_type": "execute_result"
    }
   ],
   "source": [
    "list(나.keys())"
   ]
  },
  {
   "cell_type": "code",
   "execution_count": 31,
   "metadata": {},
   "outputs": [
    {
     "data": {
      "text/plain": [
       "['박초영', ['수영', '여행'], ['고양이']]"
      ]
     },
     "execution_count": 31,
     "metadata": {},
     "output_type": "execute_result"
    }
   ],
   "source": [
    "list(나.values()) #값만 추출"
   ]
  },
  {
   "cell_type": "code",
   "execution_count": 32,
   "metadata": {},
   "outputs": [
    {
     "data": {
      "text/plain": [
       "[('이름', '박초영'), ('취미', ['수영', '여행']), ('좋아하는것', ['고양이'])]"
      ]
     },
     "execution_count": 32,
     "metadata": {},
     "output_type": "execute_result"
    }
   ],
   "source": [
    "list(나.items()) #키와 값을 추출"
   ]
  },
  {
   "cell_type": "code",
   "execution_count": 33,
   "metadata": {},
   "outputs": [
    {
     "name": "stdout",
     "output_type": "stream",
     "text": [
      "('이름', '박초영')\n",
      "('취미', ['수영', '여행'])\n",
      "('좋아하는것', ['고양이'])\n"
     ]
    }
   ],
   "source": [
    "for item in 나.items():\n",
    "    print(item)"
   ]
  },
  {
   "cell_type": "code",
   "execution_count": 34,
   "metadata": {},
   "outputs": [
    {
     "name": "stdout",
     "output_type": "stream",
     "text": [
      "이름 박초영\n",
      "취미 ['수영', '여행']\n",
      "좋아하는것 ['고양이']\n"
     ]
    }
   ],
   "source": [
    "for k,v in 나.items():\n",
    "    print(k,v)"
   ]
  },
  {
   "cell_type": "code",
   "execution_count": 42,
   "metadata": {},
   "outputs": [
    {
     "ename": "SyntaxError",
     "evalue": "unterminated string literal (detected at line 2) (3157850136.py, line 2)",
     "output_type": "error",
     "traceback": [
      "\u001b[0;36m  Cell \u001b[0;32mIn[42], line 2\u001b[0;36m\u001b[0m\n\u001b[0;31m    print[f\"키는 {k}이고, 값은 {v}입니다]\u001b[0m\n\u001b[0m          ^\u001b[0m\n\u001b[0;31mSyntaxError\u001b[0m\u001b[0;31m:\u001b[0m unterminated string literal (detected at line 2)\n"
     ]
    }
   ],
   "source": [
    "for k,v in 나.items():\n",
    "    print[f\"키는 {k}이고, 값은 {v}입니다]"
   ]
  }
 ],
 "metadata": {
  "kernelspec": {
   "display_name": "Python 3",
   "language": "python",
   "name": "python3"
  },
  "language_info": {
   "codemirror_mode": {
    "name": "ipython",
    "version": 3
   },
   "file_extension": ".py",
   "mimetype": "text/x-python",
   "name": "python",
   "nbconvert_exporter": "python",
   "pygments_lexer": "ipython3",
   "version": "3.10.13"
  }
 },
 "nbformat": 4,
 "nbformat_minor": 2
}
