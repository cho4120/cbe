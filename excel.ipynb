{
 "cells": [
  {
   "cell_type": "code",
   "execution_count": 1,
   "metadata": {},
   "outputs": [
    {
     "name": "stdout",
     "output_type": "stream",
     "text": [
      "Collecting openpyxl\n",
      "  Downloading openpyxl-3.1.2-py2.py3-none-any.whl (249 kB)\n",
      "\u001b[2K     \u001b[90m━━━━━━━━━━━━━━━━━━━━━━━━━━━━━━━━━━━━━━━\u001b[0m \u001b[32m250.0/250.0 kB\u001b[0m \u001b[31m5.9 MB/s\u001b[0m eta \u001b[36m0:00:00\u001b[0m00:01\u001b[0m\n",
      "\u001b[?25hCollecting et-xmlfile (from openpyxl)\n",
      "  Downloading et_xmlfile-1.1.0-py3-none-any.whl (4.7 kB)\n",
      "Installing collected packages: et-xmlfile, openpyxl\n",
      "Successfully installed et-xmlfile-1.1.0 openpyxl-3.1.2\n",
      "Note: you may need to restart the kernel to use updated packages.\n"
     ]
    }
   ],
   "source": [
    "#엑셀을 제어하는 라이브러리\n",
    "%pip install openpyxl"
   ]
  },
  {
   "cell_type": "code",
   "execution_count": 2,
   "metadata": {},
   "outputs": [],
   "source": [
    "import openpyxl"
   ]
  },
  {
   "cell_type": "code",
   "execution_count": 3,
   "metadata": {},
   "outputs": [],
   "source": [
    "#엑셀파일을 만드는 것!\n",
    "wb = openpyxl.Workbook()"
   ]
  },
  {
   "cell_type": "code",
   "execution_count": null,
   "metadata": {},
   "outputs": [],
   "source": [
    "#시트 만들기!\n",
    "sh = wb.create_sheet(\"파이썬시트!\")"
   ]
  },
  {
   "cell_type": "code",
   "execution_count": 7,
   "metadata": {},
   "outputs": [],
   "source": [
    "#파일을 저장\n",
    "wb.save(\"test.xlsx\")"
   ]
  },
  {
   "cell_type": "code",
   "execution_count": 9,
   "metadata": {},
   "outputs": [
    {
     "data": {
      "text/plain": [
       "['Sheet', '파이썬시트!', '파이썬시트!1']"
      ]
     },
     "execution_count": 9,
     "metadata": {},
     "output_type": "execute_result"
    }
   ],
   "source": [
    "wb.sheetnames"
   ]
  },
  {
   "cell_type": "code",
   "execution_count": 11,
   "metadata": {},
   "outputs": [
    {
     "data": {
      "text/plain": [
       "<Worksheet \"Sheet\">"
      ]
     },
     "execution_count": 11,
     "metadata": {},
     "output_type": "execute_result"
    }
   ],
   "source": [
    "wb.active #지금 현재 활성화된 시트"
   ]
  },
  {
   "cell_type": "code",
   "execution_count": 15,
   "metadata": {},
   "outputs": [
    {
     "name": "stderr",
     "output_type": "stream",
     "text": [
      "/tmp/ipykernel_36732/252609459.py:2: DeprecationWarning: Call to deprecated function get_sheet_by_name (Use wb[sheetname]).\n",
      "  mysh = wb.get_sheet_by_name(\"파이썬시트!\")\n"
     ]
    }
   ],
   "source": [
    "#시트를 이름으로 가져오기\n",
    "mysh = wb.get_sheet_by_name(\"파이썬시트!\")"
   ]
  },
  {
   "cell_type": "code",
   "execution_count": 19,
   "metadata": {},
   "outputs": [],
   "source": [
    "mysh[\"A1\"] = \"언어\"\n",
    "mysh[\"A2\"] = \"파이썬\"\n",
    "mysh[\"B1\"] = \"친밀도\"\n",
    "mysh[\"B2\"] = \"매우 친함\""
   ]
  },
  {
   "cell_type": "code",
   "execution_count": 21,
   "metadata": {},
   "outputs": [],
   "source": [
    "wb.save(\"text.xlsx\")"
   ]
  },
  {
   "cell_type": "code",
   "execution_count": 23,
   "metadata": {},
   "outputs": [
    {
     "data": {
      "text/plain": [
       "'친밀도'"
      ]
     },
     "execution_count": 23,
     "metadata": {},
     "output_type": "execute_result"
    }
   ],
   "source": [
    "mysh[\"B1\"].value"
   ]
  },
  {
   "cell_type": "code",
   "execution_count": 26,
   "metadata": {},
   "outputs": [
    {
     "data": {
      "text/plain": [
       "'친밀도'"
      ]
     },
     "execution_count": 26,
     "metadata": {},
     "output_type": "execute_result"
    }
   ],
   "source": [
    "mysh.cell(1,2).value"
   ]
  },
  {
   "cell_type": "code",
   "execution_count": 29,
   "metadata": {},
   "outputs": [],
   "source": [
    "#값을 쓰는 것!\n",
    "for i in range(1,11):\n",
    "    mysh.cell(1,i).value = i"
   ]
  },
  {
   "cell_type": "code",
   "execution_count": 31,
   "metadata": {},
   "outputs": [
    {
     "name": "stdout",
     "output_type": "stream",
     "text": [
      "1\n",
      "2\n",
      "3\n",
      "4\n",
      "5\n",
      "6\n",
      "7\n",
      "8\n",
      "9\n",
      "10\n"
     ]
    }
   ],
   "source": [
    "#값을 읽는 것!\n",
    "for i in range(1,11):\n",
    "    print(mysh.cell(1,i).value)"
   ]
  },
  {
   "cell_type": "code",
   "execution_count": 33,
   "metadata": {},
   "outputs": [],
   "source": [
    "#파일에서 wb 불러오기\n",
    "wb = openpyxl.load_workbook(\"테스트파일.xlsx\")"
   ]
  },
  {
   "cell_type": "code",
   "execution_count": 35,
   "metadata": {},
   "outputs": [
    {
     "name": "stderr",
     "output_type": "stream",
     "text": [
      "/tmp/ipykernel_36732/3290766571.py:2: DeprecationWarning: Call to deprecated function get_sheet_by_name (Use wb[sheetname]).\n",
      "  sh = wb.get_sheet_by_name(\"Sheet\")\n"
     ]
    }
   ],
   "source": [
    "#시트를 불러온다.\n",
    "sh = wb.get_sheet_by_name(\"Sheet\")\n",
    "#활성화된 시트를 부르는 코드는\n",
    "#sh = wb.active"
   ]
  },
  {
   "cell_type": "code",
   "execution_count": 37,
   "metadata": {},
   "outputs": [
    {
     "data": {
      "text/plain": [
       "'이름'"
      ]
     },
     "execution_count": 37,
     "metadata": {},
     "output_type": "execute_result"
    }
   ],
   "source": [
    "sh[\"A1\"].value"
   ]
  },
  {
   "cell_type": "code",
   "execution_count": 45,
   "metadata": {},
   "outputs": [
    {
     "data": {
      "text/plain": [
       "['이름', '첫번째', '두번째', '세번째', '네번째', '김개똥', '이순신', '박성준', '박창순', '이창호']"
      ]
     },
     "execution_count": 45,
     "metadata": {},
     "output_type": "execute_result"
    }
   ],
   "source": [
    "이름들 = []\n",
    "for r in sh.rows:\n",
    "    이름들.append(r[0].value)\n",
    "이름들"
   ]
  },
  {
   "cell_type": "code",
   "execution_count": 47,
   "metadata": {},
   "outputs": [
    {
     "data": {
      "text/plain": [
       "['첫번째', '두번째', '세번째', '네번째', '김개똥', '이순신', '박성준', '박창순', '이창호']"
      ]
     },
     "execution_count": 47,
     "metadata": {},
     "output_type": "execute_result"
    }
   ],
   "source": [
    "이름들 = []\n",
    "for r in sh.rows:\n",
    "    이름들.append(r[0].value)\n",
    "이름들 = 이름들[1:]\n",
    "이름들"
   ]
  },
  {
   "cell_type": "code",
   "execution_count": 49,
   "metadata": {},
   "outputs": [
    {
     "name": "stdout",
     "output_type": "stream",
     "text": [
      "('첫번째', '두번째', '세번째', '네번째', '김개똥', '이순신', '박성준', '박창순', '이창호')\n",
      "(45, 80, 95, 75, 27, 88, 97, 48, 96)\n"
     ]
    }
   ],
   "source": [
    "이름들 = []\n",
    "점수들 = []\n",
    "for r in sh.rows:\n",
    "    이름들.append(r[0].value)\n",
    "    점수들.append(r[1].value)\n",
    "이름들,점수들 = tuple(이름들[1:]),tuple(점수들[1:]) #tuple =>절대 바꾸지 못하도록 묶음\n",
    "print(이름들)\n",
    "print(점수들)"
   ]
  },
  {
   "cell_type": "code",
   "execution_count": null,
   "metadata": {},
   "outputs": [],
   "source": [
    "이름들 = []\n",
    "점수들 = []\n",
    "for r in sh.rows:\n",
    "    이름들.append(r[0].value)\n",
    "    점수들.append(r[1].value)\n",
    "    if r[1].value>=90:\n",
    "        상중하.\n",
    "이름들,점수들 = tuple(이름들[1:]),tuple(점수들[1:]) #tuple =>절대 바꾸지 못하도록 묶음\n",
    "print(이름들)\n",
    "print(점수들)"
   ]
  }
 ],
 "metadata": {
  "kernelspec": {
   "display_name": "Python 3",
   "language": "python",
   "name": "python3"
  },
  "language_info": {
   "codemirror_mode": {
    "name": "ipython",
    "version": 3
   },
   "file_extension": ".py",
   "mimetype": "text/x-python",
   "name": "python",
   "nbconvert_exporter": "python",
   "pygments_lexer": "ipython3",
   "version": "3.10.13"
  }
 },
 "nbformat": 4,
 "nbformat_minor": 2
}
